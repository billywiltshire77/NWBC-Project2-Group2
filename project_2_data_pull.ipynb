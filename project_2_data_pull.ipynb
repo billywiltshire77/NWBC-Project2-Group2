{
 "cells": [
  {
   "cell_type": "code",
   "execution_count": 2,
   "id": "2b1a5bd9-f305-4855-9cff-3c60f1b56a5a",
   "metadata": {},
   "outputs": [],
   "source": [
    "from bs4 import BeautifulSoup as bs\n",
    "import requests\n",
    "import pandas as pd\n",
    "from splinter import Browser\n",
    "from webdriver_manager.chrome import ChromeDriverManager\n",
    "import pymongo\n",
    "from config import api_key"
   ]
  },
  {
   "cell_type": "code",
   "execution_count": 17,
   "id": "6b132bd8-cf2c-43bb-a1b8-0b62d5834c64",
   "metadata": {},
   "outputs": [],
   "source": [
    "base_url = \"https://yfapi.net/v6/finance/quote\"\n",
    "tickers = ['AAPL', 'GOOGL', 'MSFT', 'AMZN', 'FB', 'GOOG', 'TSLA', 'NVDA', 'JPM', 'UNH']"
   ]
  },
  {
   "cell_type": "code",
   "execution_count": 20,
   "id": "ec3466b7-23c0-42b2-af23-d28f91188879",
   "metadata": {},
   "outputs": [
    {
     "name": "stdout",
     "output_type": "stream",
     "text": [
      "---------\n",
      "AAPL Rating: 1.8 - Buy\n",
      "AAPL Open: 163.51; High: 166.35; Low: 163.015\n",
      "---------\n",
      "GOOGL Rating: 1.7 - Buy\n",
      "GOOGL Open: 2723.27; High: 2739.9988; Low: 2681.845\n",
      "---------\n",
      "MSFT Rating: 1.7 - Buy\n",
      "MSFT Open: 298.89; High: 300.14; Low: 294.9\n",
      "---------\n",
      "AMZN Rating: 1.7 - Buy\n",
      "AMZN Open: 3222.415; High: 3261.68; Low: 3191.06\n",
      "---------\n",
      "FB Rating: 2.1 - Buy\n",
      "FB Open: 214.5; High: 214.71; Low: 207.63\n",
      "---------\n",
      "GOOG Rating: 1.5 - Strong Buy\n",
      "GOOG Open: 2736.95; High: 2750.22; Low: 2692.23\n",
      "---------\n",
      "TSLA Rating: 2.6 - Hold\n",
      "TSLA Open: 914.98; High: 942.8; Low: 907.09\n",
      "---------\n",
      "NVDA Rating: 2.0 - Buy\n",
      "NVDA Open: 265.07; High: 271.5199; Low: 259.67\n",
      "---------\n",
      "JPM Rating: 2.5 - Buy\n",
      "JPM Open: 140.35; High: 140.76; Low: 138.7301\n",
      "---------\n",
      "UNH Rating: 1.9 - Buy\n",
      "UNH Open: 505.01; High: 513.0; Low: 504.36\n"
     ]
    }
   ],
   "source": [
    "stock_data = []\n",
    "for ticker in tickers:\n",
    "    stock_dict = {}\n",
    "    try:\n",
    "        querystring = {\"symbols\": ticker}\n",
    "\n",
    "        headers = {\n",
    "            'x-api-key': api_key\n",
    "            }\n",
    "        \n",
    "        response = requests.get(base_url, headers=headers, params=querystring).json()\n",
    "        symbol = response['quoteResponse']['result'][0]['symbol']\n",
    "        day_open = response['quoteResponse']['result'][0]['regularMarketOpen']\n",
    "        day_high = response['quoteResponse']['result'][0]['regularMarketDayHigh']\n",
    "        day_low = response['quoteResponse']['result'][0]['regularMarketDayLow']\n",
    "        rating = response['quoteResponse']['result'][0]['averageAnalystRating']\n",
    "        \n",
    "        stock_dict['ticker'] = symbol\n",
    "        stock_dict['day_open'] = day_open\n",
    "        stock_dict['day_high'] = day_high\n",
    "        stock_dict['day_low'] = day_low\n",
    "        stock_dict['avg_analyst_rating'] = rating\n",
    "        \n",
    "        stock_data.append(stock_dict)\n",
    "        \n",
    "        print('---------')\n",
    "        print(f'{symbol} Rating: {rating}')\n",
    "        print(f'{symbol} Open: {day_open}; High: {day_high}; Low: {day_low}')\n",
    "    \n",
    "    except:\n",
    "        print('---------')\n",
    "        print(f'{ticker} Missing Data')"
   ]
  },
  {
   "cell_type": "code",
   "execution_count": 21,
   "id": "e91b379d-2e76-4b25-a099-539bb7e6e933",
   "metadata": {},
   "outputs": [
    {
     "data": {
      "text/plain": [
       "[{'ticker': 'AAPL',\n",
       "  'day_open': 163.51,\n",
       "  'day_high': 166.35,\n",
       "  'day_low': 163.015,\n",
       "  'avg_analyst_rating': '1.8 - Buy'},\n",
       " {'ticker': 'GOOGL',\n",
       "  'day_open': 2723.27,\n",
       "  'day_high': 2739.9988,\n",
       "  'day_low': 2681.845,\n",
       "  'avg_analyst_rating': '1.7 - Buy'},\n",
       " {'ticker': 'MSFT',\n",
       "  'day_open': 298.89,\n",
       "  'day_high': 300.14,\n",
       "  'day_low': 294.9,\n",
       "  'avg_analyst_rating': '1.7 - Buy'},\n",
       " {'ticker': 'AMZN',\n",
       "  'day_open': 3222.415,\n",
       "  'day_high': 3261.68,\n",
       "  'day_low': 3191.06,\n",
       "  'avg_analyst_rating': '1.7 - Buy'},\n",
       " {'ticker': 'FB',\n",
       "  'day_open': 214.5,\n",
       "  'day_high': 214.71,\n",
       "  'day_low': 207.63,\n",
       "  'avg_analyst_rating': '2.1 - Buy'},\n",
       " {'ticker': 'GOOG',\n",
       "  'day_open': 2736.95,\n",
       "  'day_high': 2750.22,\n",
       "  'day_low': 2692.23,\n",
       "  'avg_analyst_rating': '1.5 - Strong Buy'},\n",
       " {'ticker': 'TSLA',\n",
       "  'day_open': 914.98,\n",
       "  'day_high': 942.8,\n",
       "  'day_low': 907.09,\n",
       "  'avg_analyst_rating': '2.6 - Hold'},\n",
       " {'ticker': 'NVDA',\n",
       "  'day_open': 265.07,\n",
       "  'day_high': 271.5199,\n",
       "  'day_low': 259.67,\n",
       "  'avg_analyst_rating': '2.0 - Buy'},\n",
       " {'ticker': 'JPM',\n",
       "  'day_open': 140.35,\n",
       "  'day_high': 140.76,\n",
       "  'day_low': 138.7301,\n",
       "  'avg_analyst_rating': '2.5 - Buy'},\n",
       " {'ticker': 'UNH',\n",
       "  'day_open': 505.01,\n",
       "  'day_high': 513.0,\n",
       "  'day_low': 504.36,\n",
       "  'avg_analyst_rating': '1.9 - Buy'}]"
      ]
     },
     "execution_count": 21,
     "metadata": {},
     "output_type": "execute_result"
    }
   ],
   "source": [
    "stock_data"
   ]
  },
  {
   "cell_type": "code",
   "execution_count": 23,
   "id": "9a9fc0e2-c23c-4fe2-a488-cd55f729611d",
   "metadata": {},
   "outputs": [
    {
     "name": "stderr",
     "output_type": "stream",
     "text": [
      "\n",
      "\n",
      "====== WebDriver manager ======\n",
      "Could not get version for google-chrome with the command:  powershell \"$ErrorActionPreference='silentlycontinue' ; (Get-Item -Path \"$env:PROGRAMFILES\\Google\\Chrome\\Application\\chrome.exe\").VersionInfo.FileVersion ; if (-not $? -or $? -match $error) { (Get-Item -Path \"$env:PROGRAMFILES(x86)\\Google\\Chrome\\Application\\chrome.exe\").VersionInfo.FileVersion } if (-not $? -or $? -match $error) { (Get-Item -Path \"$env:LOCALAPPDATA\\Google\\Chrome\\Application\\chrome.exe\").VersionInfo.FileVersion } if (-not $? -or $? -match $error) { reg query \"HKCU\\SOFTWARE\\Google\\Chrome\\BLBeacon\" /v version } if (-not $? -or $? -match $error) { reg query \"HKLM\\SOFTWARE\\Wow6432Node\\Microsoft\\Windows\\CurrentVersion\\Uninstall\\Google Chrome\" /v version }\"\n",
      "Current google-chrome version is UNKNOWN\n",
      "Get LATEST chromedriver version for UNKNOWN google-chrome\n",
      "Trying to download new driver from https://chromedriver.storage.googleapis.com/99.0.4844.51/chromedriver_win32.zip\n",
      "Driver has been saved in cache [C:\\Users\\Billy\\.wdm\\drivers\\chromedriver\\win32\\99.0.4844.51]\n"
     ]
    }
   ],
   "source": [
    "url = 'https://finance.yahoo.com/'\n",
    "# Scraping for latest news article on each ticker\n",
    "executable_path = {'executable_path': ChromeDriverManager().install()}\n",
    "browser = Browser('chrome', **executable_path, headless=False)\n",
    "browser.visit(url)"
   ]
  },
  {
   "cell_type": "code",
   "execution_count": 38,
   "id": "62eb5d00-bd11-4118-9256-2aac38b8997b",
   "metadata": {},
   "outputs": [
    {
     "name": "stdout",
     "output_type": "stream",
     "text": [
      "----------\n",
      "AAPL\n",
      "Apple Resolves Outage That Hobbled Apps and Internal Systems\n",
      "https://finance.yahoo.com//news/apple-suffers-widespread-outage-hitting-170314183.html\n",
      "----------\n",
      "GOOGL\n",
      "Sony Entertainment to Buy Jade Raymond’s Haven Gaming Studio\n",
      "https://finance.yahoo.com//news/sony-entertainment-buy-jade-raymond-162114298.html\n",
      "----------\n",
      "MSFT\n",
      "Who will be the first trillionaire? Study predicts Elon Musk in 2024.\n",
      "https://finance.yahoo.com//news/who-will-be-the-first-trillionaire-study-predicts-elon-musk-in-2024-144150081.html\n",
      "----------\n",
      "AMZN\n",
      "Vinco Ventures stock soars, Goldman Sachs conducts first OTC bitcoin option trade, Al Michaels strikes deal with Amazon\n",
      "https://finance.yahoo.com//video/vinco-ventures-stock-soars-goldman-195710086.html\n",
      "----------\n",
      "FB\n",
      "Market check: Stocks fall as oil extends gains\n",
      "https://finance.yahoo.com//video/market-check-stocks-fall-oil-192426504.html\n",
      "----------\n",
      "GOOG\n",
      "Sony Entertainment to Buy Jade Raymond’s Haven Gaming Studio\n",
      "https://finance.yahoo.com//news/sony-entertainment-buy-jade-raymond-162114298.html\n",
      "----------\n",
      "TSLA\n",
      "Electric vehicles: Cadillac kicks of Lyriq production in Tennessee\n",
      "https://finance.yahoo.com//video/electric-vehicles-cadillac-kicks-lyriq-195246910.html\n",
      "----------\n",
      "NVDA\n",
      "Millennial And Gen Z Stock Picks From Tesla To Apple: Should You Buy Them Too?\n",
      "https://finance.yahoo.com//m/f9e3c029-2453-38e6-a9bf-eedc0ce911bd/millennial-and-gen-z-stock.html\n",
      "----------\n",
      "JPM\n",
      "JPMorgan Chase Commits $5 Million to Black and Latina Street Vendors\n",
      "https://finance.yahoo.com//news/jpmorgan-chase-commits-5-million-200035870.html\n",
      "----------\n",
      "UNH\n",
      "Dow Jones Futures: Stock Market Falls On Powell Comments; 6 Top Stocks To Buy And Watch\n",
      "https://finance.yahoo.com//m/3f0dfb66-7d45-3506-bb03-5388a6c65d22/dow-jones-futures-stock.html\n"
     ]
    }
   ],
   "source": [
    "# Scraping for latest news article on each ticker\n",
    "stock_articles = []\n",
    "for ticker in tickers:\n",
    "    articles_dict = {}\n",
    "    \n",
    "    url = f'https://finance.yahoo.com/quote/{ticker}/news?p={ticker}'\n",
    "    browser.visit(url)\n",
    "    \n",
    "    html = browser.html\n",
    "    soup = bs(html, 'html.parser')\n",
    "    \n",
    "    latest_article = soup.find('a', class_='js-content-viewer')\n",
    "    article_title = latest_article.text\n",
    "    article_link = latest_article['href']\n",
    "    \n",
    "    articles_dict['ticker'] = ticker\n",
    "    articles_dict['article_title'] = article_title\n",
    "    articles_dict['link'] = f'https://finance.yahoo.com/{article_link}'\n",
    "    \n",
    "    stock_articles.append(articles_dict)\n",
    "    \n",
    "    print('----------')\n",
    "    print(ticker)\n",
    "    print(article_title)\n",
    "    print(f'https://finance.yahoo.com/{article_link}')"
   ]
  },
  {
   "cell_type": "code",
   "execution_count": 39,
   "id": "e69d5402-28ef-4850-89f2-bc776a6792fb",
   "metadata": {},
   "outputs": [
    {
     "data": {
      "text/plain": [
       "[{'ticker': 'AAPL',\n",
       "  'article_title': 'Apple Resolves Outage That Hobbled Apps and Internal Systems',\n",
       "  'link': 'https://finance.yahoo.com//news/apple-suffers-widespread-outage-hitting-170314183.html'},\n",
       " {'ticker': 'GOOGL',\n",
       "  'article_title': 'Sony Entertainment to Buy Jade Raymond’s Haven Gaming Studio',\n",
       "  'link': 'https://finance.yahoo.com//news/sony-entertainment-buy-jade-raymond-162114298.html'},\n",
       " {'ticker': 'MSFT',\n",
       "  'article_title': 'Who will be the first trillionaire? Study predicts Elon Musk in 2024.',\n",
       "  'link': 'https://finance.yahoo.com//news/who-will-be-the-first-trillionaire-study-predicts-elon-musk-in-2024-144150081.html'},\n",
       " {'ticker': 'AMZN',\n",
       "  'article_title': 'Vinco Ventures stock soars, Goldman Sachs conducts first OTC bitcoin option trade, Al Michaels strikes deal with Amazon',\n",
       "  'link': 'https://finance.yahoo.com//video/vinco-ventures-stock-soars-goldman-195710086.html'},\n",
       " {'ticker': 'FB',\n",
       "  'article_title': 'Market check: Stocks fall as oil extends gains',\n",
       "  'link': 'https://finance.yahoo.com//video/market-check-stocks-fall-oil-192426504.html'},\n",
       " {'ticker': 'GOOG',\n",
       "  'article_title': 'Sony Entertainment to Buy Jade Raymond’s Haven Gaming Studio',\n",
       "  'link': 'https://finance.yahoo.com//news/sony-entertainment-buy-jade-raymond-162114298.html'},\n",
       " {'ticker': 'TSLA',\n",
       "  'article_title': 'Electric vehicles: Cadillac kicks of Lyriq production in Tennessee',\n",
       "  'link': 'https://finance.yahoo.com//video/electric-vehicles-cadillac-kicks-lyriq-195246910.html'},\n",
       " {'ticker': 'NVDA',\n",
       "  'article_title': 'Millennial And Gen Z Stock Picks From Tesla To Apple: Should You Buy Them Too?',\n",
       "  'link': 'https://finance.yahoo.com//m/f9e3c029-2453-38e6-a9bf-eedc0ce911bd/millennial-and-gen-z-stock.html'},\n",
       " {'ticker': 'JPM',\n",
       "  'article_title': 'JPMorgan Chase Commits $5 Million to Black and Latina Street Vendors',\n",
       "  'link': 'https://finance.yahoo.com//news/jpmorgan-chase-commits-5-million-200035870.html'},\n",
       " {'ticker': 'UNH',\n",
       "  'article_title': 'Dow Jones Futures: Stock Market Falls On Powell Comments; 6 Top Stocks To Buy And Watch',\n",
       "  'link': 'https://finance.yahoo.com//m/3f0dfb66-7d45-3506-bb03-5388a6c65d22/dow-jones-futures-stock.html'}]"
      ]
     },
     "execution_count": 39,
     "metadata": {},
     "output_type": "execute_result"
    }
   ],
   "source": [
    "stock_articles"
   ]
  },
  {
   "cell_type": "code",
   "execution_count": 40,
   "id": "7f0aed14-62ef-4e79-8b5e-ac5442c592e9",
   "metadata": {},
   "outputs": [],
   "source": [
    "browser.quit()"
   ]
  },
  {
   "cell_type": "code",
   "execution_count": null,
   "id": "c24f4fb6-786d-43cf-b1e3-50cf4ff2d134",
   "metadata": {},
   "outputs": [],
   "source": []
  }
 ],
 "metadata": {
  "kernelspec": {
   "display_name": "Python 3 (ipykernel)",
   "language": "python",
   "name": "python3"
  },
  "language_info": {
   "codemirror_mode": {
    "name": "ipython",
    "version": 3
   },
   "file_extension": ".py",
   "mimetype": "text/x-python",
   "name": "python",
   "nbconvert_exporter": "python",
   "pygments_lexer": "ipython3",
   "version": "3.8.5"
  }
 },
 "nbformat": 4,
 "nbformat_minor": 5
}
